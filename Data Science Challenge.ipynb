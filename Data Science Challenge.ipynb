{
 "cells": [
  {
   "attachments": {},
   "cell_type": "markdown",
   "id": "7aa7c200",
   "metadata": {},
   "source": [
    "# Introduction\n",
    "After collecting the data, I formed a table with the given dataset and also added another column for cost per shoe. Using the formed table, I created various pivot tables to start analyzing the different given data. "
   ]
  },
  {
   "attachments": {},
   "cell_type": "markdown",
   "id": "438aa616",
   "metadata": {},
   "source": [
    "# Financial Analysis\n",
    "\n",
    "The average order value(AOV) is indeed \\\\$3,145.13. However, after deeper analysis by creating a table for this large dataset and looking through the values of each transaction. I have discovered that user_id 607 has a total of 17 transactions valued at \\\\$704,000 (\\\\$352 per shoe) each through credit card at 4:00 AM every transaction. In other words, user_id 607 has brought up the overall AOV from \\\\$754 (excluding user_id 607’s transaction) to \\\\$3,145.13 (including user_id 607’s transaction. This user has bought a total of 34,000 shoes in the past 30 days valuing almost \\\\$12 million through a credit card. The series of irregular activity is highly suspicious, and should be overwatched carefully and brought to the data security team to ensure that there is no credit card fraud. Not to mention, the high order amount for shop_id 78 (\\\\$2,263,800) also skews the data. \n",
    "\n",
    "These shops are selling sneakers and they are relatively cheap; however, the unit price is not the only factor that contributes to the movement of AOV. Shopify should also take the quantity sold into consideration. For example, the unit price of shop_id 78’s shoe is \\\\$25,725, higher than the market average, \\\\$152 (excluding shop_id 78’s shoe). However, it doesn’t play as much of an impact as user_id 607’s transaction because user_id 607’s buys a total of 2,000 shoes per transaction. This makes the value of each transaction higher than it would be if it was purchased in a smaller quantity. Therefore, if Shopify is trying to evaluate the AOV, they should also take the number of shoes being purchased into consideration."
   ]
  },
  {
   "cell_type": "code",
   "execution_count": 21,
   "id": "057fd974",
   "metadata": {},
   "outputs": [],
   "source": [
    "import pandas as pd\n",
    "import numpy as np"
   ]
  },
  {
   "cell_type": "code",
   "execution_count": 22,
   "id": "4074a8f8",
   "metadata": {
    "scrolled": true
   },
   "outputs": [
    {
     "name": "stdout",
     "output_type": "stream",
     "text": [
      "      order_id  shop_id  user_id  order_amount  total_items payment_method           created_at\n",
      "0            1       53      746           224            2           cash  2017-03-13 12:36:56\n",
      "1            2       92      925            90            1           cash  2017-03-03 17:38:52\n",
      "2            3       44      861           144            1           cash   2017-03-14 4:23:56\n",
      "3            4       18      935           156            1    credit_card  2017-03-26 12:43:37\n",
      "4            5       18      883           156            1    credit_card   2017-03-01 4:35:11\n",
      "...        ...      ...      ...           ...          ...            ...                  ...\n",
      "4995      4996       73      993           330            2          debit  2017-03-30 13:47:17\n",
      "4996      4997       48      789           234            2           cash  2017-03-16 20:36:16\n",
      "4997      4998       56      867           351            3           cash   2017-03-19 5:42:42\n",
      "4998      4999       60      825           354            2    credit_card  2017-03-16 14:51:18\n",
      "4999      5000       44      734           288            2          debit  2017-03-18 15:48:18\n",
      "\n",
      "[5000 rows x 7 columns]\n"
     ]
    }
   ],
   "source": [
    "#Raw data visualization\n",
    "df = pd.read_csv(\"RawData.csv\")\n",
    "pd.set_option(\"display.max_columns\", 10)\n",
    "pd.set_option('display.width', 1000)\n",
    "print(df)"
   ]
  },
  {
   "cell_type": "code",
   "execution_count": 23,
   "id": "599a6047",
   "metadata": {},
   "outputs": [
    {
     "name": "stdout",
     "output_type": "stream",
     "text": [
      "AOV: $3,145.13\n"
     ]
    }
   ],
   "source": [
    "#Confirming the value of AOV\n",
    "average = df[\"order_amount\"].mean()\n",
    "print(\"AOV: \" + \"${:,.2f}\".format(average))"
   ]
  },
  {
   "cell_type": "code",
   "execution_count": 4,
   "id": "8338194d",
   "metadata": {},
   "outputs": [
    {
     "name": "stdout",
     "output_type": "stream",
     "text": [
      "      shop_id  user_id  order_amount  total_items payment_method           created_at\n",
      "2153       42      607        704000         2000    credit_card   2017-03-12 4:00:00\n",
      "3332       42      607        704000         2000    credit_card   2017-03-24 4:00:00\n",
      "520        42      607        704000         2000    credit_card   2017-03-02 4:00:00\n",
      "1602       42      607        704000         2000    credit_card   2017-03-17 4:00:00\n",
      "60         42      607        704000         2000    credit_card   2017-03-04 4:00:00\n",
      "2835       42      607        704000         2000    credit_card   2017-03-28 4:00:00\n",
      "4646       42      607        704000         2000    credit_card   2017-03-02 4:00:00\n",
      "2297       42      607        704000         2000    credit_card   2017-03-07 4:00:00\n",
      "1436       42      607        704000         2000    credit_card   2017-03-11 4:00:00\n",
      "4882       42      607        704000         2000    credit_card   2017-03-25 4:00:00\n",
      "4056       42      607        704000         2000    credit_card   2017-03-28 4:00:00\n",
      "15         42      607        704000         2000    credit_card   2017-03-07 4:00:00\n",
      "1104       42      607        704000         2000    credit_card   2017-03-24 4:00:00\n",
      "1562       42      607        704000         2000    credit_card   2017-03-19 4:00:00\n",
      "2969       42      607        704000         2000    credit_card   2017-03-28 4:00:00\n",
      "4868       42      607        704000         2000    credit_card   2017-03-22 4:00:00\n",
      "1362       42      607        704000         2000    credit_card   2017-03-15 4:00:00\n",
      "691        78      878        154350            6          debit  2017-03-27 22:51:43\n",
      "2492       78      834        102900            4          debit   2017-03-04 4:37:34\n",
      "3724       78      766         77175            3    credit_card  2017-03-16 14:13:26\n",
      "4420       78      969         77175            3          debit  2017-03-09 15:21:35\n",
      "4192       78      787         77175            3    credit_card   2017-03-18 9:25:32\n",
      "3403       78      928         77175            3          debit   2017-03-16 9:45:05\n",
      "2690       78      962         77175            3          debit   2017-03-22 7:33:25\n",
      "2564       78      915         77175            3          debit   2017-03-25 1:19:35\n"
     ]
    }
   ],
   "source": [
    "#Sorting the data by order_amount\n",
    "x = df[df.columns[1:7]]\n",
    "sort = x.sort_values(\"order_amount\", ascending = False)\n",
    "print(sort.head(25))"
   ]
  },
  {
   "cell_type": "code",
   "execution_count": 5,
   "id": "2de31f5a",
   "metadata": {},
   "outputs": [
    {
     "name": "stdout",
     "output_type": "stream",
     "text": [
      "         order_amount  count\n",
      "user_id                     \n",
      "607          11968000     17\n",
      "878            156936     11\n",
      "834            108342     18\n",
      "787             85707     25\n",
      "969             84269     23\n",
      "818             82485     19\n",
      "775             81114     16\n",
      "915             80992     14\n",
      "817             80988     16\n",
      "855             80915     17\n"
     ]
    }
   ],
   "source": [
    "#Digging deeper into each user\n",
    "pivot1 = df.pivot_table(index=([\"user_id\"]), values=[\"order_amount\"], aggfunc={\"order_amount\":np.sum, \"user_id\":np.size})\n",
    "pivot1 = pivot1.rename(columns={\"user_id\":\"count\"})\n",
    "data = pivot1.sort_values(\"order_amount\", ascending = False)\n",
    "print(data.head(10))"
   ]
  },
  {
   "cell_type": "code",
   "execution_count": 6,
   "id": "726bda76",
   "metadata": {
    "scrolled": true
   },
   "outputs": [],
   "source": [
    "#Digging deeper into each users\n",
    "#pivot1 = df.pivot_table(index=([\"user_id\"]), values=[\"order_amount\"], aggfunc=np.sum)\n",
    "#data = pivot1.sort_values(\"order_amount\", ascending = False)\n",
    "#print(data.head(10))\n"
   ]
  },
  {
   "cell_type": "code",
   "execution_count": 7,
   "id": "2ec5518c",
   "metadata": {},
   "outputs": [
    {
     "name": "stdout",
     "output_type": "stream",
     "text": [
      "      shop_id  user_id  order_amount  total_items payment_method          created_at\n",
      "15         42      607        704000         2000    credit_card  2017-03-07 4:00:00\n",
      "60         42      607        704000         2000    credit_card  2017-03-04 4:00:00\n",
      "520        42      607        704000         2000    credit_card  2017-03-02 4:00:00\n",
      "1104       42      607        704000         2000    credit_card  2017-03-24 4:00:00\n",
      "1362       42      607        704000         2000    credit_card  2017-03-15 4:00:00\n",
      "1436       42      607        704000         2000    credit_card  2017-03-11 4:00:00\n",
      "1562       42      607        704000         2000    credit_card  2017-03-19 4:00:00\n",
      "1602       42      607        704000         2000    credit_card  2017-03-17 4:00:00\n",
      "2153       42      607        704000         2000    credit_card  2017-03-12 4:00:00\n",
      "2297       42      607        704000         2000    credit_card  2017-03-07 4:00:00\n",
      "2835       42      607        704000         2000    credit_card  2017-03-28 4:00:00\n",
      "2969       42      607        704000         2000    credit_card  2017-03-28 4:00:00\n",
      "3332       42      607        704000         2000    credit_card  2017-03-24 4:00:00\n",
      "4056       42      607        704000         2000    credit_card  2017-03-28 4:00:00\n",
      "4646       42      607        704000         2000    credit_card  2017-03-02 4:00:00\n",
      "4868       42      607        704000         2000    credit_card  2017-03-22 4:00:00\n",
      "4882       42      607        704000         2000    credit_card  2017-03-25 4:00:00\n"
     ]
    }
   ],
   "source": [
    "#Deep into 607\n",
    "x = df[df.columns[1:7]]\n",
    "irregular = x[df[\"user_id\"]==607]\n",
    "print(irregular)"
   ]
  },
  {
   "cell_type": "code",
   "execution_count": 15,
   "id": "60c74f5f",
   "metadata": {
    "scrolled": false
   },
   "outputs": [
    {
     "name": "stdout",
     "output_type": "stream",
     "text": [
      "AOV with 607: $3,145.13\n",
      "AOV without 607: $754.09\n"
     ]
    }
   ],
   "source": [
    "#AOV comparison with and without user 607\n",
    "WO607 = df[df[\"user_id\"]!=607]\n",
    "avgWO607 = WO607[\"order_amount\"].mean()\n",
    "print(\"AOV with 607: \" + \"${:,.2f}\".format(average))\n",
    "print(\"AOV without 607: \" + \"${:,.2f}\".format(avgWO607))"
   ]
  },
  {
   "cell_type": "code",
   "execution_count": 16,
   "id": "3e2d962c",
   "metadata": {},
   "outputs": [
    {
     "name": "stdout",
     "output_type": "stream",
     "text": [
      "         order_amount  total_items  avg_price\n",
      "shop_id                                      \n",
      "78            2263800           88    25725.0\n",
      "42              22176           63      352.0\n",
      "12              18693           93      201.0\n",
      "89              23128          118      196.0\n",
      "99              18330           94      195.0\n",
      "50              17756           92      193.0\n",
      "38              13680           72      190.0\n",
      "51              16643           89      187.0\n",
      "6               22627          121      187.0\n",
      "11              17480           95      184.0\n",
      "79              17738           98      181.0\n",
      "43              19367          107      181.0\n",
      "90              19758          111      178.0\n",
      "59              21538          121      178.0\n",
      "60              16461           93      177.0\n",
      "82              14691           83      177.0\n",
      "81              22656          128      177.0\n",
      "17              17600          100      176.0\n",
      "88              17776          101      176.0\n",
      "26              16720           95      176.0\n"
     ]
    }
   ],
   "source": [
    "#Finding the average price of each shoe \n",
    "pivot2 = WO607.pivot_table(index=([\"shop_id\"]), values = [\"order_amount\", \"total_items\"], aggfunc=np.sum)\n",
    "pivot2[\"avg_price\"] =  pivot2[\"order_amount\"]/pivot2[\"total_items\"]\n",
    "pivot2 = pivot2.sort_values(\"avg_price\", ascending = False)\n",
    "print(pivot2.head(20))"
   ]
  },
  {
   "cell_type": "code",
   "execution_count": 17,
   "id": "73244c5a",
   "metadata": {
    "scrolled": true
   },
   "outputs": [
    {
     "name": "stdout",
     "output_type": "stream",
     "text": [
      "AOV with shop 78: $754.09\n",
      "AOV without shop 78: $302.58\n"
     ]
    }
   ],
   "source": [
    "#AOV comparison of with and without shop 78 \n",
    "WO78 = WO607[WO607[\"shop_id\"] != 78]\n",
    "avgWO78 = WO78[\"order_amount\"].mean()\n",
    "print(\"AOV with shop 78: \" + \"${:,.2f}\".format(avgWO607))\n",
    "print(\"AOV without shop 78: \" + \"${:,.2f}\".format(avgWO78))\n",
    "\n"
   ]
  },
  {
   "attachments": {},
   "cell_type": "markdown",
   "id": "d540b143",
   "metadata": {},
   "source": [
    "# Recommendations\n",
    "After making these financial analyses, I recommend Shopify look deeper into user_id 607's profile, and history, and hold off any actions that this user has to make with this credit card. In addition, reach out to their credit card company and police for further investigation. These actions should be taken to make sure that this is not a credit card fraud.\n",
    "\t\n",
    "The recommendations below will exclude user_id 607 because of potential credit card fraud. Although finding the AOV is important, Shopify should also consider other metrics such as the most valuable customer and the most valuable store. When it comes to the most valuable customer, user_id 878 has the highest order amount of \\\\$156,936 compared to the market average of \\\\$12,042. With this information, the company should focus on keeping this customer since user_id 878 is the one that contributes the most to the order amount.  Another metric that Shopify should adopt is finding the most profitable store. After determining the sales made by each shop, shop_id 78 has the highest sales, \\\\$2,263,800, while the market average is \\\\$37,732\n"
   ]
  },
  {
   "cell_type": "code",
   "execution_count": 18,
   "id": "b9cfd8b3",
   "metadata": {
    "scrolled": true
   },
   "outputs": [
    {
     "name": "stdout",
     "output_type": "stream",
     "text": [
      "         order_amount  total_items\n",
      "user_id                           \n",
      "878            156936           24\n",
      "834            108342           38\n",
      "787             85707           57\n",
      "969             84269           50\n",
      "818             82485           38\n",
      "775             81114           28\n",
      "915             80992           29\n",
      "817             80988           30\n",
      "855             80915           27\n",
      "928             80668           28\n"
     ]
    }
   ],
   "source": [
    "#Finding the most valuable customer\n",
    "pivot3 = WO607.pivot_table(index = \"user_id\", values = [\"order_amount\", \"total_items\"], aggfunc = np.sum)\n",
    "pivot3 = pivot3.sort_values(\"order_amount\", ascending = False)\n",
    "print(pivot3.head(10))"
   ]
  },
  {
   "cell_type": "code",
   "execution_count": 19,
   "id": "bfbe23d5",
   "metadata": {},
   "outputs": [
    {
     "name": "stdout",
     "output_type": "stream",
     "text": [
      "Total Value of user 878: $156,936.00\n",
      "AOV without user 878: $12,042.49\n"
     ]
    }
   ],
   "source": [
    "#Importance of user 878\n",
    "print(\"Total Value of user 878: \" + \"${:,.2f}\".format(pivot3.iloc[0,0]))\n",
    "WO878 = pivot3.drop(878)\n",
    "avgWO878 = WO878[\"order_amount\"].mean()\n",
    "print(\"AOV without user 878: \" + \"${:,.2f}\".format(avgWO878))"
   ]
  },
  {
   "cell_type": "code",
   "execution_count": 20,
   "id": "e28e450b",
   "metadata": {},
   "outputs": [
    {
     "name": "stdout",
     "output_type": "stream",
     "text": [
      "         order_amount\n",
      "shop_id              \n",
      "78            2263800\n",
      "89              23128\n",
      "81              22656\n",
      "6               22627\n",
      "42              22176\n",
      "13              21760\n",
      "59              21538\n",
      "71              21320\n",
      "19              20538\n",
      "70              20241\n"
     ]
    }
   ],
   "source": [
    "#Finding the most valuable shop\n",
    "pivot4 = WO607.pivot_table(index = \"shop_id\", values = [\"order_amount\"], aggfunc = np.sum)\n",
    "pivot4 = pivot4.sort_values(\"order_amount\", ascending = False)\n",
    "print(pivot4.head(10))"
   ]
  }
 ],
 "metadata": {
  "kernelspec": {
   "display_name": "Python 3 (ipykernel)",
   "language": "python",
   "name": "python3"
  },
  "language_info": {
   "codemirror_mode": {
    "name": "ipython",
    "version": 3
   },
   "file_extension": ".py",
   "mimetype": "text/x-python",
   "name": "python",
   "nbconvert_exporter": "python",
   "pygments_lexer": "ipython3",
   "version": "3.9.0"
  }
 },
 "nbformat": 4,
 "nbformat_minor": 5
}
